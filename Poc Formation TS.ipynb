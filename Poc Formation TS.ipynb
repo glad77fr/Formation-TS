{
 "cells": [
  {
   "cell_type": "markdown",
   "metadata": {},
   "source": [
    "# POC Power BI TS Formation"
   ]
  },
  {
   "cell_type": "code",
   "execution_count": 21,
   "metadata": {},
   "outputs": [],
   "source": [
    "import pandas as pd\n",
    "import numpy as np\n",
    "import matplotlib.pyplot as plt\n",
    "import os\n",
    "import xlsxwriter"
   ]
  },
  {
   "cell_type": "markdown",
   "metadata": {},
   "source": [
    "## Import des données"
   ]
  },
  {
   "cell_type": "code",
   "execution_count": 22,
   "metadata": {},
   "outputs": [
    {
     "name": "stdout",
     "output_type": "stream",
     "text": [
      "Wall time: 187 ms\n"
     ]
    }
   ],
   "source": [
    "%%time\n",
    "tcw = pd.read_csv(r'Data/TrainingCollectiveWishes.csv', engine=None,encoding='utf-8', sep=';') # Demandes collectives non affectées à un plan de formation\n",
    "tiw = pd.read_csv(r'Data/TrainingIndividualWishes.csv', engine=None,encoding='utf-8', sep=';') # Demandes individuelles non affectées à un plan de formation\n",
    "tp = pd.read_csv(r'Data/TrainingPlan.csv', engine=None,encoding='utf-8', sep=';') # Plans de formation\n",
    "tpcw = pd.read_csv(r'Data/TrainingPlanCollectiveWishes.csv', engine=None,encoding='utf-8', sep=';') # Demande de formation collectives prises en charge dans un plan de formation\n",
    "tpci = pd.read_csv(r'Data/TrainingPlanIndividualWishes.csv', engine=None,encoding='utf-8', sep=';') # Demande de formation individuelles prises en charge dans un plan de formation\n",
    "tr = pd.read_csv(r'Data/TrainingRegister.csv', engine=None,encoding='utf-8', sep=';') # Table recensant les inscription aux sessiosn de formation \n",
    "ts = pd.read_csv(r'Data/TrainingSessions.csv', engine=None,encoding='utf-8', sep=';') # Table recensant les sessions de formation \n",
    "tsc = pd.read_csv(r'Data/TrainingStageCost.csv', engine=None,encoding='utf-8', sep=';') # Table contenant les coûts des stages\n",
    "tsv2 = pd.read_csv(r'Data/TrainingStagev2.csv', engine=None,encoding='utf-8', sep=';') # Table contenant les stages\n",
    "emp = pd.read_csv(r'Data/Employees.csv', engine=None,encoding='utf-8', sep=';') # Table maître employé\n",
    "empc = pd.read_csv(r'Data/EmployementContract.csv', engine=None,encoding='utf-8', sep=';') # Table contrat employé\n",
    "indO = pd.read_csv(r'Data/IndividualOrganization.csv', engine=None,encoding='utf-8', sep=';') # Table organisation employé\n",
    "indpp = pd.read_csv(r'Data/IndivPPCsNew.csv', engine=None,encoding='utf-8', sep=';') # ?\n",
    "para = pd.read_excel(r'Data/Paramétrage.xlsx', sheets=\"Mapp_data\") # Table de paramétrage servant à mapper les données"
   ]
  },
  {
   "cell_type": "markdown",
   "metadata": {},
   "source": [
    "## Fonctions exploitées dans le code"
   ]
  },
  {
   "cell_type": "markdown",
   "metadata": {},
   "source": [
    "### Fonctions pour mapper les données"
   ]
  },
  {
   "cell_type": "code",
   "execution_count": 23,
   "metadata": {},
   "outputs": [],
   "source": [
    "def dict_mapp(colonne_name):\n",
    "    df = para  \n",
    "    df = para.loc[para.Colonne == colonne_name]\n",
    "    dic = {}\n",
    "    df.reset_index(drop=True, inplace=True)\n",
    "    print(\"1\" + str(colonne_name))\n",
    "    print(df)\n",
    "    for i, val in enumerate(df.iterrows()):\n",
    "        dic[df.at[i, \"Valeur source\"]] = df.at[i, \"Valeur cible\"]\n",
    "        print(\"2\" + str(colonne_name))\n",
    "    return dic\n",
    "\n",
    "def df_mapp(dataframe):\n",
    "    col_map = para[\"Colonne\"].unique()    \n",
    "    for col in col_map:\n",
    "        if col in dataframe.columns:\n",
    "            dataframe[col] = dataframe[col].map(dict_mapp(col))\n",
    "    return dataframe   "
   ]
  },
  {
   "cell_type": "markdown",
   "metadata": {},
   "source": [
    "## Renommage des clés"
   ]
  },
  {
   "cell_type": "code",
   "execution_count": 24,
   "metadata": {},
   "outputs": [],
   "source": [
    "ts.rename(columns={'clientcode':'SessionID', 'coursecode':'FormationID', 'startdate':'SessionDate'},inplace=True)\n",
    "tsv2.rename(columns={'clientcode':'SessionID'},inplace=True)\n",
    "tr.rename(columns={'clientcode':'SessionID', 'traineusername':'USERNAME'},inplace=True)\n",
    "tp.rename(columns={'plancode':'PlanID'},inplace=True)\n",
    "emp.rename(columns={'username':'USERNAME'}, inplace=True)\n",
    "tcw.rename(columns={'clientcode':'WishID','coursecode':'FormationID','username':'USERNAME'},inplace=True)\n",
    "tiw.rename(columns={'username':'USERNAME', 'employeenumber':'ZY00.MATCLE', 'clientcode':'WishID', 'coursecode':'FormationID'},inplace=True)\n",
    "tpcw.rename(columns={'plan_code':'PlanID', 'wish_code':'WishID'}, inplace=True)\n",
    "tpci.rename(columns={'plan_code':'PlanID', 'wish_code':'WishID'}, inplace=True)"
   ]
  },
  {
   "cell_type": "code",
   "execution_count": 25,
   "metadata": {},
   "outputs": [],
   "source": [
    "my_dict_columns = {\"tcw\": tcw.columns, \"tiw\": tiw.columns, \"tp\" : tp.columns, \"tpcw\" : tpcw.columns, \"tr\" : tr.columns, \"ts\" : ts.columns, \"tsc\" : tsc.columns, \"tsv2\" : tsv2.columns, \"emp\" : emp.columns,\n",
    "           \"empc\" : empc.columns, \"indO\": indO.columns, \"indpp\": indpp.columns}\n",
    "\n",
    "my_dict_dataframe = {\"tcw\": tcw, \"tiw\": tiw, \"tp\" : tp, \"tpcw\" : tpcw, \"tr\" : tr, \"ts\" : ts, \"tsc\" : tsc, \"tsv2\" : tsv2, \"emp\" : emp,\n",
    "           \"empc\" : empc, \"indO\": indO, \"indpp\": indpp}"
   ]
  },
  {
   "cell_type": "code",
   "execution_count": 26,
   "metadata": {},
   "outputs": [],
   "source": [
    "def get_key(val): \n",
    "    res=[]\n",
    "    for key, value in my_dict_columns.items():        \n",
    "        if val in(value): \n",
    "            res.append(key)     \n",
    "    return res\n",
    "#get_key(\"plan_code\")"
   ]
  },
  {
   "cell_type": "markdown",
   "metadata": {},
   "source": [
    "## Creation des tables de dimension"
   ]
  },
  {
   "cell_type": "markdown",
   "metadata": {},
   "source": [
    "### Création de la table dimension demandes de formations"
   ]
  },
  {
   "cell_type": "code",
   "execution_count": 27,
   "metadata": {},
   "outputs": [
    {
     "name": "stdout",
     "output_type": "stream",
     "text": [
      "1state\n",
      "   Colonne Valeur source Valeur cible\n",
      "0    state      Souhaite     Souhaité\n",
      "1    state      Souhaité     Souhaité\n",
      "2    state       Accepte      Accepté\n",
      "3    state       Accepté      Accepté\n",
      "4    state        Refuse       Refusé\n",
      "5    state        Refusé       Refusé\n",
      "6    state        Valide       Validé\n",
      "7    state        Validé       Validé\n",
      "8    state       Propose      Proposé\n",
      "9    state       Proposé      Proposé\n",
      "10   state        Annule       Annulé\n",
      "11   state        Annulé       Annulé\n",
      "2state\n",
      "2state\n",
      "2state\n",
      "2state\n",
      "2state\n",
      "2state\n",
      "2state\n",
      "2state\n",
      "2state\n",
      "2state\n",
      "2state\n",
      "2state\n",
      "1creationmode\n",
      "        Colonne Valeur source Valeur cible\n",
      "0  creationmode        Wished     Souhaité\n",
      "1  creationmode      Proposed      Proposé\n",
      "2creationmode\n",
      "2creationmode\n"
     ]
    }
   ],
   "source": [
    "\n",
    "wish_table = tcw.append(tiw,sort=True)\n",
    "wish_table.reset_index(drop=True, inplace=True)\n",
    "wish_table[\"Wish_key\"] = wish_table.index\n",
    "wish_table.loc[wish_table.nbtrainees.isna(), \"nbtrainees\"] = 1\n",
    "wish_table = df_mapp(wish_table)\n",
    "my_dict_dataframe[\"wish_table\"]= wish_table\n",
    "#wish_table.to_excel(r'Transformed data\\wish_table.xlsx')"
   ]
  },
  {
   "cell_type": "markdown",
   "metadata": {},
   "source": [
    "## Création des tables de fait"
   ]
  },
  {
   "cell_type": "markdown",
   "metadata": {},
   "source": [
    "### Table de fait demande de formation"
   ]
  },
  {
   "cell_type": "code",
   "execution_count": 28,
   "metadata": {},
   "outputs": [],
   "source": [
    "wish_fact = wish_table[[\"Wish_key\", \"nbtrainees\"]].copy()\n",
    "wish_fact.loc[:, \"Nb_demandes\"]= 1\n",
    "\n",
    "my_dict_dataframe[\"wish_fact\"] = wish_fact"
   ]
  },
  {
   "cell_type": "markdown",
   "metadata": {},
   "source": [
    "## Export des données vers le répertoire Transformed data"
   ]
  },
  {
   "cell_type": "code",
   "execution_count": 29,
   "metadata": {},
   "outputs": [],
   "source": [
    "for key, value in my_dict_dataframe.items():\n",
    "        location = \"Transformed data\"\n",
    "        file_name = str(key) + '.csv'\n",
    "        location = os.path.join(location, file_name)  \n",
    "        value.to_csv(location, encoding='utf16', index=False)"
   ]
  }
 ],
 "metadata": {
  "kernelspec": {
   "display_name": "Python 3",
   "language": "python",
   "name": "python3"
  },
  "language_info": {
   "codemirror_mode": {
    "name": "ipython",
    "version": 3
   },
   "file_extension": ".py",
   "mimetype": "text/x-python",
   "name": "python",
   "nbconvert_exporter": "python",
   "pygments_lexer": "ipython3",
   "version": "3.7.3"
  }
 },
 "nbformat": 4,
 "nbformat_minor": 4
}
